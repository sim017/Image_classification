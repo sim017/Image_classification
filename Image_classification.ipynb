{
  "nbformat": 4,
  "nbformat_minor": 0,
  "metadata": {
    "colab": {
      "name": "Image_classification.ipynb",
      "provenance": [],
      "collapsed_sections": [],
      "authorship_tag": "ABX9TyPewjgcCatjhD9CcuM9J1fv",
      "include_colab_link": true
    },
    "kernelspec": {
      "name": "python3",
      "display_name": "Python 3"
    }
  },
  "cells": [
    {
      "cell_type": "markdown",
      "metadata": {
        "id": "view-in-github",
        "colab_type": "text"
      },
      "source": [
        "<a href=\"https://colab.research.google.com/github/sim017/Image_classification/blob/master/Image_classification.ipynb\" target=\"_parent\"><img src=\"https://colab.research.google.com/assets/colab-badge.svg\" alt=\"Open In Colab\"/></a>"
      ]
    },
    {
      "cell_type": "code",
      "metadata": {
        "id": "sKpkuv400aEU",
        "colab_type": "code",
        "colab": {
          "base_uri": "https://localhost:8080/",
          "height": 51
        },
        "outputId": "b23f607e-2622-42c2-c251-b2a4e8399f3d"
      },
      "source": [
        "import tensorflow as tf\n",
        "from tensorflow.keras import datasets, layers, models\n",
        "import matplotlib.pyplot as plt\n",
        "(train_images,train_labels),(test_images,test_labels) = datasets.cifar10.load_data()\n",
        "\n"
      ],
      "execution_count": 2,
      "outputs": [
        {
          "output_type": "stream",
          "text": [
            "Downloading data from https://www.cs.toronto.edu/~kriz/cifar-10-python.tar.gz\n",
            "170500096/170498071 [==============================] - 10s 0us/step\n"
          ],
          "name": "stdout"
        }
      ]
    },
    {
      "cell_type": "code",
      "metadata": {
        "id": "B58k3QLY1Yxz",
        "colab_type": "code",
        "colab": {}
      },
      "source": [
        "train_images = train_images/255.0\n",
        "test_images = test_images/255.0\n",
        "class_names = ['airplane','automobile','bird','cat','deer','dog','frog','horse','ship','truck']\n",
        "model  = tf.keras.models.Sequential([\n",
        "                                     layers.Conv2D(32,(3,3),padding='same',activation='relu',input_shape=(32,32,3)),\n",
        "                                     layers.Conv2D(64,(3,3),padding='same',activation='relu'),\n",
        "                                     layers.MaxPooling2D(pool_size=(2,2)),\n",
        "                                     layers.Conv2D(128,(3,3),padding='same',activation='relu'),\n",
        "                                     layers.MaxPooling2D(pool_size=(2,2)),\n",
        "                                     layers.Dropout(0.10),\n",
        "                                     layers.Flatten(),\n",
        "                                     layers.Dense(512,activation='relu'),\n",
        "                                     layers.Dropout(0.10),\n",
        "                                     layers.Dense(256,activation='relu'),\n",
        "                                     layers.Dense(10)\n",
        "\n",
        "])"
      ],
      "execution_count": 3,
      "outputs": []
    },
    {
      "cell_type": "code",
      "metadata": {
        "id": "oMueO3CB3urU",
        "colab_type": "code",
        "colab": {
          "base_uri": "https://localhost:8080/",
          "height": 527
        },
        "outputId": "a402c526-ac70-4d84-db36-ddf73c120c7d"
      },
      "source": [
        "model.summary()"
      ],
      "execution_count": 4,
      "outputs": [
        {
          "output_type": "stream",
          "text": [
            "Model: \"sequential\"\n",
            "_________________________________________________________________\n",
            "Layer (type)                 Output Shape              Param #   \n",
            "=================================================================\n",
            "conv2d (Conv2D)              (None, 32, 32, 32)        896       \n",
            "_________________________________________________________________\n",
            "conv2d_1 (Conv2D)            (None, 32, 32, 64)        18496     \n",
            "_________________________________________________________________\n",
            "max_pooling2d (MaxPooling2D) (None, 16, 16, 64)        0         \n",
            "_________________________________________________________________\n",
            "conv2d_2 (Conv2D)            (None, 16, 16, 128)       73856     \n",
            "_________________________________________________________________\n",
            "max_pooling2d_1 (MaxPooling2 (None, 8, 8, 128)         0         \n",
            "_________________________________________________________________\n",
            "dropout (Dropout)            (None, 8, 8, 128)         0         \n",
            "_________________________________________________________________\n",
            "flatten (Flatten)            (None, 8192)              0         \n",
            "_________________________________________________________________\n",
            "dense (Dense)                (None, 512)               4194816   \n",
            "_________________________________________________________________\n",
            "dropout_1 (Dropout)          (None, 512)               0         \n",
            "_________________________________________________________________\n",
            "dense_1 (Dense)              (None, 256)               131328    \n",
            "_________________________________________________________________\n",
            "dense_2 (Dense)              (None, 10)                2570      \n",
            "=================================================================\n",
            "Total params: 4,421,962\n",
            "Trainable params: 4,421,962\n",
            "Non-trainable params: 0\n",
            "_________________________________________________________________\n"
          ],
          "name": "stdout"
        }
      ]
    },
    {
      "cell_type": "code",
      "metadata": {
        "id": "2srgV2aL37o0",
        "colab_type": "code",
        "colab": {}
      },
      "source": [
        "model.compile(optimizer='adam',loss=tf.keras.losses.SparseCategoricalCrossentropy(from_logits=True),metrics=['accuracy'])"
      ],
      "execution_count": 5,
      "outputs": []
    },
    {
      "cell_type": "code",
      "metadata": {
        "id": "O1DT-pBQ4LKE",
        "colab_type": "code",
        "colab": {
          "base_uri": "https://localhost:8080/",
          "height": 357
        },
        "outputId": "f7d7fe1a-861d-4658-bbef-823152633ae4"
      },
      "source": [
        "training_hist = model.fit(train_images,train_labels,epochs=10,validation_data=(test_images,test_labels))"
      ],
      "execution_count": 6,
      "outputs": [
        {
          "output_type": "stream",
          "text": [
            "Epoch 1/10\n",
            "1563/1563 [==============================] - 383s 245ms/step - loss: 1.3118 - accuracy: 0.5245 - val_loss: 1.0688 - val_accuracy: 0.6183\n",
            "Epoch 2/10\n",
            "1563/1563 [==============================] - 386s 247ms/step - loss: 0.8583 - accuracy: 0.6972 - val_loss: 0.8072 - val_accuracy: 0.7197\n",
            "Epoch 3/10\n",
            "1563/1563 [==============================] - 386s 247ms/step - loss: 0.6730 - accuracy: 0.7629 - val_loss: 0.7598 - val_accuracy: 0.7383\n",
            "Epoch 4/10\n",
            "1563/1563 [==============================] - 393s 251ms/step - loss: 0.5267 - accuracy: 0.8156 - val_loss: 0.7758 - val_accuracy: 0.7480\n",
            "Epoch 5/10\n",
            "1563/1563 [==============================] - 389s 249ms/step - loss: 0.4159 - accuracy: 0.8531 - val_loss: 0.7811 - val_accuracy: 0.7504\n",
            "Epoch 6/10\n",
            "1563/1563 [==============================] - 398s 254ms/step - loss: 0.3229 - accuracy: 0.8858 - val_loss: 0.8227 - val_accuracy: 0.7489\n",
            "Epoch 7/10\n",
            "1563/1563 [==============================] - 396s 253ms/step - loss: 0.2557 - accuracy: 0.9105 - val_loss: 0.9322 - val_accuracy: 0.7565\n",
            "Epoch 8/10\n",
            "1563/1563 [==============================] - 389s 249ms/step - loss: 0.2158 - accuracy: 0.9247 - val_loss: 0.9348 - val_accuracy: 0.7535\n",
            "Epoch 9/10\n",
            "1563/1563 [==============================] - 388s 248ms/step - loss: 0.1841 - accuracy: 0.9360 - val_loss: 1.0015 - val_accuracy: 0.7578\n",
            "Epoch 10/10\n",
            "1563/1563 [==============================] - 387s 247ms/step - loss: 0.1678 - accuracy: 0.9435 - val_loss: 1.0830 - val_accuracy: 0.7478\n"
          ],
          "name": "stdout"
        }
      ]
    },
    {
      "cell_type": "code",
      "metadata": {
        "id": "-t8ZDr1ALZsk",
        "colab_type": "code",
        "colab": {
          "base_uri": "https://localhost:8080/",
          "height": 300
        },
        "outputId": "80f40b16-f802-41fe-b009-c832a9efee5b"
      },
      "source": [
        "plt.plot(training_hist.history['accuracy'], label='accuracy')\n",
        "plt.plot(training_hist.history['val_accuracy'], label = 'val_accuracy')\n",
        "plt.xlabel('Epoch')\n",
        "plt.ylabel('Accuracy')\n",
        "plt.ylim([0.5, 1])\n",
        "plt.legend(loc='lower right')\n",
        "\n",
        "test_loss, test_acc = model.evaluate(test_images,  test_labels, verbose=2)"
      ],
      "execution_count": 8,
      "outputs": [
        {
          "output_type": "stream",
          "text": [
            "313/313 - 18s - loss: 1.0830 - accuracy: 0.7478\n"
          ],
          "name": "stdout"
        },
        {
          "output_type": "display_data",
          "data": {
            "image/png": "[encoded data removed]",
            "text/plain": [
              "<Figure size 432x288 with 1 Axes>"
            ]
          },
          "metadata": {
            "tags": [],
            "needs_background": "light"
          }
        }
      ]
    },
    {
      "cell_type": "code",
      "metadata": {
        "id": "VHiJDkeTMDw4",
        "colab_type": "code",
        "colab": {}
      },
      "source": [
        ""
      ],
      "execution_count": 9,
      "outputs": []
    }
  ]
}